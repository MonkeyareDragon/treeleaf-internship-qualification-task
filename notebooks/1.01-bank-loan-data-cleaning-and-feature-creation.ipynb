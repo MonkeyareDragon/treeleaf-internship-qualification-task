{
 "cells": [
  {
   "cell_type": "code",
   "execution_count": 1,
   "id": "c4da1de3-dd68-43d9-8a77-4738ac5505b7",
   "metadata": {},
   "outputs": [],
   "source": [
    "import pandas as pd\n",
    "from sklearn.preprocessing import LabelEncoder"
   ]
  },
  {
   "cell_type": "code",
   "execution_count": 2,
   "id": "137a65dd-5e19-4bb1-9d8d-72a0684d0e5a",
   "metadata": {},
   "outputs": [
    {
     "data": {
      "text/html": [
       "<div>\n",
       "<style scoped>\n",
       "    .dataframe tbody tr th:only-of-type {\n",
       "        vertical-align: middle;\n",
       "    }\n",
       "\n",
       "    .dataframe tbody tr th {\n",
       "        vertical-align: top;\n",
       "    }\n",
       "\n",
       "    .dataframe thead th {\n",
       "        text-align: right;\n",
       "    }\n",
       "</style>\n",
       "<table border=\"1\" class=\"dataframe\">\n",
       "  <thead>\n",
       "    <tr style=\"text-align: right;\">\n",
       "      <th></th>\n",
       "      <th>ID</th>\n",
       "      <th>Age</th>\n",
       "      <th>Gender</th>\n",
       "      <th>Experience</th>\n",
       "      <th>Income</th>\n",
       "      <th>ZIP Code</th>\n",
       "      <th>Family</th>\n",
       "      <th>CCAvg</th>\n",
       "      <th>Education</th>\n",
       "      <th>Mortgage</th>\n",
       "      <th>Home Ownership</th>\n",
       "      <th>Personal Loan</th>\n",
       "      <th>Securities Account</th>\n",
       "      <th>CD Account</th>\n",
       "      <th>Online</th>\n",
       "      <th>CreditCard</th>\n",
       "    </tr>\n",
       "  </thead>\n",
       "  <tbody>\n",
       "    <tr>\n",
       "      <th>0</th>\n",
       "      <td>1</td>\n",
       "      <td>25</td>\n",
       "      <td>M</td>\n",
       "      <td>1</td>\n",
       "      <td>49.0</td>\n",
       "      <td>91107</td>\n",
       "      <td>4</td>\n",
       "      <td>1.6</td>\n",
       "      <td>1</td>\n",
       "      <td>0</td>\n",
       "      <td>Home Owner</td>\n",
       "      <td>0</td>\n",
       "      <td>1</td>\n",
       "      <td>0</td>\n",
       "      <td>0.0</td>\n",
       "      <td>0</td>\n",
       "    </tr>\n",
       "    <tr>\n",
       "      <th>1</th>\n",
       "      <td>2</td>\n",
       "      <td>45</td>\n",
       "      <td>M</td>\n",
       "      <td>19</td>\n",
       "      <td>34.0</td>\n",
       "      <td>90089</td>\n",
       "      <td>3</td>\n",
       "      <td>1.5</td>\n",
       "      <td>1</td>\n",
       "      <td>0</td>\n",
       "      <td>Rent</td>\n",
       "      <td>0</td>\n",
       "      <td>1</td>\n",
       "      <td>0</td>\n",
       "      <td>0.0</td>\n",
       "      <td>0</td>\n",
       "    </tr>\n",
       "    <tr>\n",
       "      <th>2</th>\n",
       "      <td>3</td>\n",
       "      <td>39</td>\n",
       "      <td>M</td>\n",
       "      <td>15</td>\n",
       "      <td>11.0</td>\n",
       "      <td>94720</td>\n",
       "      <td>1</td>\n",
       "      <td>1.0</td>\n",
       "      <td>1</td>\n",
       "      <td>0</td>\n",
       "      <td>Rent</td>\n",
       "      <td>0</td>\n",
       "      <td>0</td>\n",
       "      <td>0</td>\n",
       "      <td>0.0</td>\n",
       "      <td>0</td>\n",
       "    </tr>\n",
       "    <tr>\n",
       "      <th>3</th>\n",
       "      <td>4</td>\n",
       "      <td>35</td>\n",
       "      <td>M</td>\n",
       "      <td>9</td>\n",
       "      <td>100.0</td>\n",
       "      <td>94112</td>\n",
       "      <td>1</td>\n",
       "      <td>2.7</td>\n",
       "      <td>2</td>\n",
       "      <td>0</td>\n",
       "      <td>Rent</td>\n",
       "      <td>0</td>\n",
       "      <td>0</td>\n",
       "      <td>0</td>\n",
       "      <td>0.0</td>\n",
       "      <td>0</td>\n",
       "    </tr>\n",
       "    <tr>\n",
       "      <th>4</th>\n",
       "      <td>5</td>\n",
       "      <td>35</td>\n",
       "      <td>M</td>\n",
       "      <td>8</td>\n",
       "      <td>45.0</td>\n",
       "      <td>91330</td>\n",
       "      <td>4</td>\n",
       "      <td>1.0</td>\n",
       "      <td>2</td>\n",
       "      <td>0</td>\n",
       "      <td>Rent</td>\n",
       "      <td>0</td>\n",
       "      <td>0</td>\n",
       "      <td>0</td>\n",
       "      <td>0.0</td>\n",
       "      <td>1</td>\n",
       "    </tr>\n",
       "  </tbody>\n",
       "</table>\n",
       "</div>"
      ],
      "text/plain": [
       "   ID  Age Gender  Experience  Income  ZIP Code  Family  CCAvg  Education  \\\n",
       "0   1   25      M           1    49.0     91107       4    1.6          1   \n",
       "1   2   45      M          19    34.0     90089       3    1.5          1   \n",
       "2   3   39      M          15    11.0     94720       1    1.0          1   \n",
       "3   4   35      M           9   100.0     94112       1    2.7          2   \n",
       "4   5   35      M           8    45.0     91330       4    1.0          2   \n",
       "\n",
       "   Mortgage Home Ownership Personal Loan  Securities Account  CD Account  \\\n",
       "0         0     Home Owner             0                   1           0   \n",
       "1         0           Rent             0                   1           0   \n",
       "2         0           Rent             0                   0           0   \n",
       "3         0           Rent             0                   0           0   \n",
       "4         0           Rent             0                   0           0   \n",
       "\n",
       "   Online  CreditCard  \n",
       "0     0.0           0  \n",
       "1     0.0           0  \n",
       "2     0.0           0  \n",
       "3     0.0           0  \n",
       "4     0.0           1  "
      ]
     },
     "execution_count": 2,
     "metadata": {},
     "output_type": "execute_result"
    }
   ],
   "source": [
    "file_path = '../data/raw/bank_loan_data.xlsx'\n",
    "df = pd.read_excel(file_path)\n",
    "df.head()"
   ]
  },
  {
   "cell_type": "code",
   "execution_count": 3,
   "id": "b3377a28-2f14-489b-b8bc-05eb10767462",
   "metadata": {},
   "outputs": [
    {
     "data": {
      "text/plain": [
       "array(['Home Owner', 'Rent', 'Home Mortage', nan], dtype=object)"
      ]
     },
     "execution_count": 3,
     "metadata": {},
     "output_type": "execute_result"
    }
   ],
   "source": [
    "df['Home Ownership'].unique()"
   ]
  },
  {
   "cell_type": "code",
   "execution_count": 4,
   "id": "580d9112-c2ac-4b57-a713-b507de2bafd1",
   "metadata": {},
   "outputs": [],
   "source": [
    "df = df.dropna(subset=['Home Ownership'])"
   ]
  },
  {
   "cell_type": "code",
   "execution_count": 5,
   "id": "11ce19b9-997c-43c2-b4cc-992848a8f806",
   "metadata": {},
   "outputs": [
    {
     "data": {
      "text/plain": [
       "array(['Home Owner', 'Rent', 'Home Mortage'], dtype=object)"
      ]
     },
     "execution_count": 5,
     "metadata": {},
     "output_type": "execute_result"
    }
   ],
   "source": [
    "df['Home Ownership'].unique()"
   ]
  },
  {
   "cell_type": "code",
   "execution_count": 6,
   "id": "2eabbdf4-bf75-4e1a-8b00-11ce34da7490",
   "metadata": {},
   "outputs": [
    {
     "data": {
      "text/plain": [
       "array(['M', 'F', 'O', nan, '#', '-'], dtype=object)"
      ]
     },
     "execution_count": 6,
     "metadata": {},
     "output_type": "execute_result"
    }
   ],
   "source": [
    "df['Gender'].unique()"
   ]
  },
  {
   "cell_type": "code",
   "execution_count": 7,
   "id": "a72c7758-817f-4a28-a3d8-b35dd7909992",
   "metadata": {},
   "outputs": [],
   "source": [
    "values_to_remove = ['O', '#', '-']\n",
    "\n",
    "# Remove rows where 'Gender' is in values_to_remove\n",
    "df = df[~df['Gender'].isin(values_to_remove)]\n",
    "df = df.dropna(subset=['Gender'])"
   ]
  },
  {
   "cell_type": "code",
   "execution_count": 8,
   "id": "f83aa61c-d6b1-4c53-ae64-aa088eaea8df",
   "metadata": {},
   "outputs": [
    {
     "data": {
      "text/plain": [
       "array(['M', 'F'], dtype=object)"
      ]
     },
     "execution_count": 8,
     "metadata": {},
     "output_type": "execute_result"
    }
   ],
   "source": [
    "df['Gender'].unique()"
   ]
  },
  {
   "cell_type": "code",
   "execution_count": 9,
   "id": "e7a628f3-3b56-4cd3-9e31-b69f51b7498a",
   "metadata": {},
   "outputs": [
    {
     "data": {
      "text/plain": [
       "ID                     0\n",
       "Age                    0\n",
       "Gender                 0\n",
       "Experience             0\n",
       "Income                60\n",
       "ZIP Code               0\n",
       "Family                 0\n",
       "CCAvg                  0\n",
       "Education              0\n",
       "Mortgage               0\n",
       "Home Ownership         0\n",
       "Personal Loan          0\n",
       "Securities Account     0\n",
       "CD Account             0\n",
       "Online                40\n",
       "CreditCard             0\n",
       "dtype: int64"
      ]
     },
     "execution_count": 9,
     "metadata": {},
     "output_type": "execute_result"
    }
   ],
   "source": [
    "#Chekc null value in dataset\n",
    "df.isnull().sum()"
   ]
  },
  {
   "cell_type": "code",
   "execution_count": 10,
   "id": "165d78e6-433b-4fae-b766-31d7b974721f",
   "metadata": {},
   "outputs": [],
   "source": [
    "# Encode categorical variables\n",
    "label_encoder = LabelEncoder()\n",
    "df['Gender'] = label_encoder.fit_transform(df['Gender'])\n",
    "df['Home Ownership'] = label_encoder.fit_transform(df['Home Ownership'])"
   ]
  },
  {
   "cell_type": "code",
   "execution_count": 11,
   "id": "6acb5150-e92c-4f67-88f9-00f6c2a0ff38",
   "metadata": {},
   "outputs": [],
   "source": [
    "# Drop ID and ZIP Code column as it is not useful for prediction\n",
    "df.drop(columns=['ID', 'ZIP Code'], inplace=True)"
   ]
  },
  {
   "cell_type": "code",
   "execution_count": 12,
   "id": "c4c7b34d-5eaf-4d45-8aa2-75bd610e91c5",
   "metadata": {},
   "outputs": [
    {
     "name": "stdout",
     "output_type": "stream",
     "text": [
      "Unique values of Personal Loan: [0 1 ' ']\n",
      "Unique values of Gender: [1 0]\n",
      "Unique values of Home Ownership: [1 2 0]\n",
      "Unique values of Online: [ 0.  1. nan]\n",
      "\n",
      "Number of missing values in each column: \n",
      "|                    | 0   |\n",
      "|:-------------------|:----|\n",
      "| Age                | 0   |\n",
      "| Gender             | 0   |\n",
      "| Experience         | 0   |\n",
      "| Income             | 60  |\n",
      "| Family             | 0   |\n",
      "| CCAvg              | 0   |\n",
      "| Education          | 0   |\n",
      "| Mortgage           | 0   |\n",
      "| Home Ownership     | 0   |\n",
      "| Personal Loan      | 0   |\n",
      "| Securities Account | 0   |\n",
      "| CD Account         | 0   |\n",
      "| Online             | 40  |\n",
      "| CreditCard         | 0   |\n"
     ]
    }
   ],
   "source": [
    "# Print the unique values of `Personal Loan`, `Gender`, `Home Ownership` and `Online`\n",
    "print(f\"Unique values of Personal Loan: {df['Personal Loan'].unique()}\")\n",
    "print(f\"Unique values of Gender: {df['Gender'].unique()}\")\n",
    "print(f\"Unique values of Home Ownership: {df['Home Ownership'].unique()}\")\n",
    "print(f\"Unique values of Online: {df['Online'].unique()}\")\n",
    "\n",
    "# Print the number of missing values in each column\n",
    "print(f\"\\nNumber of missing values in each column: \\n{df.isnull().sum().to_markdown(numalign='left', stralign='left')}\")"
   ]
  },
  {
   "cell_type": "code",
   "execution_count": 13,
   "id": "96dd1887-c71b-492e-9d5f-d0c8efd71724",
   "metadata": {},
   "outputs": [],
   "source": [
    "# Remove the ' ' from dataset\n",
    "df = df[df['Personal Loan'].isin([0, 1])]\n",
    "# Remove the NaN from Income and Online dataset\n",
    "df = df.dropna(subset=['Income', 'Online'])"
   ]
  },
  {
   "cell_type": "code",
   "execution_count": 14,
   "id": "3bbec830-d890-4b18-8880-5a4cba5fd89e",
   "metadata": {},
   "outputs": [
    {
     "name": "stdout",
     "output_type": "stream",
     "text": [
      "\n",
      "Number of missing values in each column: \n",
      "|                    | 0   |\n",
      "|:-------------------|:----|\n",
      "| Age                | 0   |\n",
      "| Gender             | 0   |\n",
      "| Experience         | 0   |\n",
      "| Income             | 0   |\n",
      "| Family             | 0   |\n",
      "| CCAvg              | 0   |\n",
      "| Education          | 0   |\n",
      "| Mortgage           | 0   |\n",
      "| Home Ownership     | 0   |\n",
      "| Personal Loan      | 0   |\n",
      "| Securities Account | 0   |\n",
      "| CD Account         | 0   |\n",
      "| Online             | 0   |\n",
      "| CreditCard         | 0   |\n"
     ]
    }
   ],
   "source": [
    "print(f\"\\nNumber of missing values in each column: \\n{df.isnull().sum().to_markdown(numalign='left', stralign='left')}\")"
   ]
  },
  {
   "cell_type": "code",
   "execution_count": 15,
   "id": "e4a6b0db-5c93-44d6-8a3e-bdfdac50525a",
   "metadata": {},
   "outputs": [
    {
     "name": "stdout",
     "output_type": "stream",
     "text": [
      "Number of rows: 3029, Number of columns: 14\n"
     ]
    }
   ],
   "source": [
    "# Print the number of rows and columns in the final dataframe\n",
    "print(f\"Number of rows: {df.shape[0]}, Number of columns: {df.shape[1]}\")"
   ]
  },
  {
   "cell_type": "code",
   "execution_count": 16,
   "id": "8cc82f97-c9f0-4e5f-8a4f-3ed9e29d8894",
   "metadata": {},
   "outputs": [],
   "source": [
    "# Path to save\n",
    "file_path = '../data/processed/final_bank_loan_data.csv'"
   ]
  },
  {
   "cell_type": "code",
   "execution_count": 17,
   "id": "8712d42e-8cb0-4f61-96b6-56229d476adf",
   "metadata": {},
   "outputs": [],
   "source": [
    "# Save the DataFrame to a CSV file\n",
    "df.to_csv(file_path, index=False)"
   ]
  },
  {
   "cell_type": "code",
   "execution_count": 18,
   "id": "40eb9374-587b-41c7-a14c-923a283a3ae1",
   "metadata": {},
   "outputs": [
    {
     "data": {
      "text/html": [
       "<div>\n",
       "<style scoped>\n",
       "    .dataframe tbody tr th:only-of-type {\n",
       "        vertical-align: middle;\n",
       "    }\n",
       "\n",
       "    .dataframe tbody tr th {\n",
       "        vertical-align: top;\n",
       "    }\n",
       "\n",
       "    .dataframe thead th {\n",
       "        text-align: right;\n",
       "    }\n",
       "</style>\n",
       "<table border=\"1\" class=\"dataframe\">\n",
       "  <thead>\n",
       "    <tr style=\"text-align: right;\">\n",
       "      <th></th>\n",
       "      <th>Age</th>\n",
       "      <th>Gender</th>\n",
       "      <th>Experience</th>\n",
       "      <th>Income</th>\n",
       "      <th>Family</th>\n",
       "      <th>CCAvg</th>\n",
       "      <th>Education</th>\n",
       "      <th>Mortgage</th>\n",
       "      <th>Home Ownership</th>\n",
       "      <th>Personal Loan</th>\n",
       "      <th>Securities Account</th>\n",
       "      <th>CD Account</th>\n",
       "      <th>Online</th>\n",
       "      <th>CreditCard</th>\n",
       "    </tr>\n",
       "  </thead>\n",
       "  <tbody>\n",
       "    <tr>\n",
       "      <th>0</th>\n",
       "      <td>25</td>\n",
       "      <td>1</td>\n",
       "      <td>1</td>\n",
       "      <td>49.0</td>\n",
       "      <td>4</td>\n",
       "      <td>1.6</td>\n",
       "      <td>1</td>\n",
       "      <td>0</td>\n",
       "      <td>1</td>\n",
       "      <td>0</td>\n",
       "      <td>1</td>\n",
       "      <td>0</td>\n",
       "      <td>0.0</td>\n",
       "      <td>0</td>\n",
       "    </tr>\n",
       "    <tr>\n",
       "      <th>1</th>\n",
       "      <td>45</td>\n",
       "      <td>1</td>\n",
       "      <td>19</td>\n",
       "      <td>34.0</td>\n",
       "      <td>3</td>\n",
       "      <td>1.5</td>\n",
       "      <td>1</td>\n",
       "      <td>0</td>\n",
       "      <td>2</td>\n",
       "      <td>0</td>\n",
       "      <td>1</td>\n",
       "      <td>0</td>\n",
       "      <td>0.0</td>\n",
       "      <td>0</td>\n",
       "    </tr>\n",
       "    <tr>\n",
       "      <th>2</th>\n",
       "      <td>39</td>\n",
       "      <td>1</td>\n",
       "      <td>15</td>\n",
       "      <td>11.0</td>\n",
       "      <td>1</td>\n",
       "      <td>1.0</td>\n",
       "      <td>1</td>\n",
       "      <td>0</td>\n",
       "      <td>2</td>\n",
       "      <td>0</td>\n",
       "      <td>0</td>\n",
       "      <td>0</td>\n",
       "      <td>0.0</td>\n",
       "      <td>0</td>\n",
       "    </tr>\n",
       "    <tr>\n",
       "      <th>3</th>\n",
       "      <td>35</td>\n",
       "      <td>1</td>\n",
       "      <td>9</td>\n",
       "      <td>100.0</td>\n",
       "      <td>1</td>\n",
       "      <td>2.7</td>\n",
       "      <td>2</td>\n",
       "      <td>0</td>\n",
       "      <td>2</td>\n",
       "      <td>0</td>\n",
       "      <td>0</td>\n",
       "      <td>0</td>\n",
       "      <td>0.0</td>\n",
       "      <td>0</td>\n",
       "    </tr>\n",
       "    <tr>\n",
       "      <th>4</th>\n",
       "      <td>35</td>\n",
       "      <td>1</td>\n",
       "      <td>8</td>\n",
       "      <td>45.0</td>\n",
       "      <td>4</td>\n",
       "      <td>1.0</td>\n",
       "      <td>2</td>\n",
       "      <td>0</td>\n",
       "      <td>2</td>\n",
       "      <td>0</td>\n",
       "      <td>0</td>\n",
       "      <td>0</td>\n",
       "      <td>0.0</td>\n",
       "      <td>1</td>\n",
       "    </tr>\n",
       "  </tbody>\n",
       "</table>\n",
       "</div>"
      ],
      "text/plain": [
       "   Age  Gender  Experience  Income  Family  CCAvg  Education  Mortgage  \\\n",
       "0   25       1           1    49.0       4    1.6          1         0   \n",
       "1   45       1          19    34.0       3    1.5          1         0   \n",
       "2   39       1          15    11.0       1    1.0          1         0   \n",
       "3   35       1           9   100.0       1    2.7          2         0   \n",
       "4   35       1           8    45.0       4    1.0          2         0   \n",
       "\n",
       "   Home Ownership Personal Loan  Securities Account  CD Account  Online  \\\n",
       "0               1             0                   1           0     0.0   \n",
       "1               2             0                   1           0     0.0   \n",
       "2               2             0                   0           0     0.0   \n",
       "3               2             0                   0           0     0.0   \n",
       "4               2             0                   0           0     0.0   \n",
       "\n",
       "   CreditCard  \n",
       "0           0  \n",
       "1           0  \n",
       "2           0  \n",
       "3           0  \n",
       "4           1  "
      ]
     },
     "execution_count": 18,
     "metadata": {},
     "output_type": "execute_result"
    }
   ],
   "source": [
    "df.head()"
   ]
  },
  {
   "cell_type": "code",
   "execution_count": null,
   "id": "1966f589-d4ed-45ff-83b4-6e647a52535a",
   "metadata": {},
   "outputs": [],
   "source": []
  }
 ],
 "metadata": {
  "kernelspec": {
   "display_name": "Python 3 (ipykernel)",
   "language": "python",
   "name": "python3"
  },
  "language_info": {
   "codemirror_mode": {
    "name": "ipython",
    "version": 3
   },
   "file_extension": ".py",
   "mimetype": "text/x-python",
   "name": "python",
   "nbconvert_exporter": "python",
   "pygments_lexer": "ipython3",
   "version": "3.8.19"
  }
 },
 "nbformat": 4,
 "nbformat_minor": 5
}
